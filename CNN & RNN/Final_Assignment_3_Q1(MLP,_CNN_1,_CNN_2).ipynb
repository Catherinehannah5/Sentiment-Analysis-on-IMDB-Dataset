{
  "nbformat": 4,
  "nbformat_minor": 0,
  "metadata": {
    "colab": {
      "name": "Final Assignment 3- Q1(MLP, CNN-1, CNN-2).ipynb",
      "provenance": [],
      "collapsed_sections": []
    },
    "kernelspec": {
      "name": "python3",
      "display_name": "Python 3"
    }
  },
  "cells": [
    {
      "cell_type": "markdown",
      "metadata": {
        "id": "1zDGgS1Ct4Fq"
      },
      "source": [
        "##**Assignment-3, Question -1**"
      ]
    },
    {
      "cell_type": "markdown",
      "metadata": {
        "id": "aGEOj8fRcViA"
      },
      "source": [
        "####**Importing the libraries and dataset:**\n",
        "#####There are a total of 60,000 data out of which 50k examples are training dataset and 10k in the test dataset and the images are 32×32 pixels and color, with three channels(RGB):"
      ]
    },
    {
      "cell_type": "code",
      "metadata": {
        "id": "oRnOZ5kj7tMR",
        "colab": {
          "base_uri": "https://localhost:8080/",
          "height": 139
        },
        "outputId": "02a06add-e6a8-4084-df29-b948a7f9ac0c"
      },
      "source": [
        "# Loading the cifar10 dataset\n",
        "import matplotlib.pyplot as plt\n",
        "import tensorflow as tf\n",
        "from keras.datasets import cifar10 # Used to import the dataset\n",
        "from keras.utils import np_utils    # To transfor labels into categorical\n",
        "import numpy as np\n",
        "import time # To calculate the time taken to train the model\n",
        "\n",
        "# load dataset\n",
        "(X_train, y_train), (X_test, y_test) = cifar10.load_data()\n",
        "# summarize loaded dataset, X_train,X_test=(no_of _samples,pixel resolution,pixel resolution,RGB channel); y_train,y_test=(no_of_samples,1)\n",
        "# Training Dataset: The sample of data used to fit the model.\n",
        "print(X_train.shape)\n",
        "print(y_train.shape)\n",
        "print('Train: X=%s, y=%s' % (X_train.shape, y_train.shape))\n",
        "print('Test: X=%s, y=%s' % (X_test.shape, y_test.shape))"
      ],
      "execution_count": null,
      "outputs": [
        {
          "output_type": "stream",
          "text": [
            "Using TensorFlow backend.\n"
          ],
          "name": "stderr"
        },
        {
          "output_type": "stream",
          "text": [
            "Downloading data from https://www.cs.toronto.edu/~kriz/cifar-10-python.tar.gz\n",
            "170500096/170498071 [==============================] - 2s 0us/step\n",
            "(50000, 32, 32, 3)\n",
            "(50000, 1)\n",
            "Train: X=(50000, 32, 32, 3), y=(50000, 1)\n",
            "Test: X=(10000, 32, 32, 3), y=(10000, 1)\n"
          ],
          "name": "stdout"
        }
      ]
    },
    {
      "cell_type": "code",
      "metadata": {
        "id": "AWbtITv20Sxz",
        "colab": {
          "base_uri": "https://localhost:8080/",
          "height": 35
        },
        "outputId": "962863f9-4743-453f-a547-bfd8e521adc4"
      },
      "source": [
        "#Splitting the Test dataset into Validation and test (50% each):\n",
        "from sklearn.model_selection import train_test_split\n",
        "\n",
        "X_test, X_valid, y_test, y_valid = train_test_split(X_test, y_test, test_size = 0.5, random_state = 42)\n",
        "print(X_test.shape, X_valid.shape, y_test.shape, y_valid.shape)"
      ],
      "execution_count": null,
      "outputs": [
        {
          "output_type": "stream",
          "text": [
            "(5000, 32, 32, 3) (5000, 32, 32, 3) (5000, 1) (5000, 1)\n"
          ],
          "name": "stdout"
        }
      ]
    },
    {
      "cell_type": "markdown",
      "metadata": {
        "id": "3gdASKwh1MGx"
      },
      "source": [
        "###**Part-1 MLP Network:**"
      ]
    },
    {
      "cell_type": "code",
      "metadata": {
        "id": "SVlzC-nM7-wb",
        "colab": {
          "base_uri": "https://localhost:8080/",
          "height": 191
        },
        "outputId": "2dc873ef-eba1-4794-e4d9-ac634facf10d"
      },
      "source": [
        "#Normalizing the pixel value of images to be in range of 0 and 1:\n",
        "X_train_mlp = X_train/255\n",
        "X_test_mlp = X_test/255\n",
        "X_valid_mlp = X_valid/255\n",
        "\n",
        "#One hot encoding for the dataset categories, there are 10 different classes and they are represented with unique integers.\n",
        "classes = 10\n",
        "epoch = 5\n",
        "y_train_mlp = np_utils.to_categorical(y_train,classes)\n",
        "y_test_mlp = np_utils.to_categorical(y_test,classes)\n",
        "y_valid_mlp = np_utils.to_categorical(y_valid,classes)\n",
        "\n",
        "\n",
        "print(\"X_train.shape = \", X_train_mlp.shape)\n",
        "print(\"y_train.shape = \", y_train_mlp.shape, y_test_mlp.shape, y_valid_mlp.shape)\n",
        "#class_names = ['airplane', 'automobile', 'bird', 'cat', 'deer',\n",
        "#               'dog', 'frog', 'horse', 'ship', 'truck']\n",
        "\n",
        "#Randomly sampling 20% of the training dataset:\n",
        "\n",
        "Rand_train = np.random.rand(len(X_train_mlp)) < 0.2\n",
        "D = int(X_train_mlp.shape[0] * 0.2)\n",
        "print(\"D : Rows of X_train\", D)\n",
        "\n",
        "X_train_mlp = X_train_mlp[:D]\n",
        "y_train_mlp = y_train_mlp[:D]\n",
        "\n",
        "print(\"20% X_train.shape = \", X_train_mlp.shape)\n",
        "print(\"20% y_train.shape = \", y_train_mlp.shape)\n",
        "\n",
        "print(\"20% X_test.shape = \", X_test_mlp.shape)\n",
        "print(\"20% y_test.shape = \", y_test_mlp.shape)\n",
        "\n",
        "# Transform images from (32,32,3) to 3072-dimensional vectors (32*32*3)\n",
        "\n",
        "X_train_mlp = np.reshape(X_train_mlp,(10000,3072))\n",
        "X_test_mlp = np.reshape(X_test_mlp,(5000,3072))\n",
        "X_valid_mlp = np.reshape(X_valid_mlp,(5000,3072))\n",
        "X_train_mlp = X_train_mlp.astype('float32')\n",
        "X_test_mlp = X_test_mlp.astype('float32')\n",
        "X_valid_mlp = X_valid_mlp.astype('float32')\n",
        "\n",
        "print(\"After reshape X_train_mlp.shape = \", X_train_mlp.shape)\n",
        "print(\"After reshape X_test_mlp.shape = \", X_test_mlp.shape)\n",
        "print(\"After reshape X_valid_mlp.shape = \", X_valid_mlp.shape)"
      ],
      "execution_count": null,
      "outputs": [
        {
          "output_type": "stream",
          "text": [
            "X_train.shape =  (50000, 32, 32, 3)\n",
            "y_train.shape =  (50000, 10) (5000, 10) (5000, 10)\n",
            "D : Rows of X_train 10000\n",
            "20% X_train.shape =  (10000, 32, 32, 3)\n",
            "20% y_train.shape =  (10000, 10)\n",
            "20% X_test.shape =  (5000, 32, 32, 3)\n",
            "20% y_test.shape =  (5000, 10)\n",
            "After reshape X_train_mlp.shape =  (10000, 3072)\n",
            "After reshape X_test_mlp.shape =  (5000, 3072)\n",
            "After reshape X_valid_mlp.shape =  (5000, 3072)\n"
          ],
          "name": "stdout"
        }
      ]
    },
    {
      "cell_type": "code",
      "metadata": {
        "id": "d3c2K5aO8B2W"
      },
      "source": [
        "mlp_network = tf.keras.models.Sequential()\n",
        "\n",
        "#Step 1 : 1st fully connected layer with 512 units and sigmoid act function:\n",
        "mlp_network.add(tf.keras.layers.Dense(units=512, activation='sigmoid', input_dim = 3072))\n",
        "\n",
        "#Step 2 : 2nd fully connected layer with 512 units and sigmoid act function:\n",
        "mlp_network.add(tf.keras.layers.Dense(units=512, activation='sigmoid'))\n",
        "\n",
        "mlp_network.add(tf.keras.layers.Dense(units=512, activation='sigmoid'))\n",
        "#mlp_network.add(tf.keras.layers.Dense(units=256, activation='sigmoid'))\n",
        "\n",
        "#mlp_network.add(tf.keras.layers.BatchNormalization())\n",
        "\n",
        "#Step 3 : Output layer, since the number of classes are 10, units=10.\n",
        "\n",
        "mlp_network.add(tf.keras.layers.Dense(units=10, activation='softmax'))\n",
        "\n"
      ],
      "execution_count": null,
      "outputs": []
    },
    {
      "cell_type": "code",
      "metadata": {
        "id": "f8ieN0Ux-qHh"
      },
      "source": [
        "mlp_network.summary()"
      ],
      "execution_count": null,
      "outputs": []
    },
    {
      "cell_type": "code",
      "metadata": {
        "id": "ATRFBJdd-DGP",
        "colab": {
          "base_uri": "https://localhost:8080/",
          "height": 243
        },
        "outputId": "c0fbfa22-f407-46af-f161-792f5a5e60da"
      },
      "source": [
        "\n",
        "# Compiling and Training the MLP:\n",
        "# Using Adam optimizer to complie the CNN network:\n",
        "# Adam - to perform stochastic gradient decent and updating the weights in order to reduce the loss between the predictions and the target\n",
        "#A_optimizer = tf.keras.optimizers.Adam(learning_rate=0.05)\n",
        "mlp_network.compile(optimizer = 'adam', loss = 'categorical_crossentropy', metrics = ['accuracy'])\n",
        "\n",
        "#print(y_test_mlp.shape)\n",
        "#print(y_valid_mlp.shape)\n",
        "'''\n",
        "# Step to increase accuracy - Data augumentation:\n",
        "datagen = tf.keras.preprocessing.image.ImageDataGenerator(\n",
        "    featurewise_center=True,\n",
        "    featurewise_std_normalization=True,\n",
        "    rotation_range=20,\n",
        "    width_shift_range=0.2,\n",
        "    height_shift_range=0.2,\n",
        "    horizontal_flip=True)\n",
        "\n",
        "datagen.fit(X_train_mlp)\n",
        "'''\n",
        "print(\"Training of MLP model(softmax act fn): \")\n",
        "print(\"3 Layers with 256 units in each layer:\")\n",
        "# Lets calulcate the time taken to train the MLP model:\n",
        "initial_time = time.time()\n",
        "\n",
        "mlp_history = mlp_network.fit(X_train_mlp, y_train_mlp, epochs=5, batch_size=32,\n",
        "                    validation_data=(X_valid_mlp, y_valid_mlp))\n",
        "                  \n",
        "'''\n",
        "# fits the model on batches with real-time data augmentation:\n",
        "cnn_network.fit(datagen.flow(X_train_mlp, y_train_mlp, batch_size=32), epochs=5, validation_data=(X_valid_mlp, y_valid_mlp))\n",
        "'''\n",
        "end_time = time.time()\n",
        "\n",
        "time_taken_to_train = (end_time - initial_time)\n",
        "#print(time_taken_to_train)\n",
        "print(\"Time taken to train MLP model is = {:0.2f} minute\".format(time_taken_to_train/60.00))"
      ],
      "execution_count": null,
      "outputs": [
        {
          "output_type": "stream",
          "text": [
            "Training of MLP model(softmax act fn): \n",
            "3 Layers with 256 units in each layer:\n",
            "Epoch 1/5\n",
            "313/313 [==============================] - 6s 21ms/step - loss: 2.1223 - accuracy: 0.1978 - val_loss: 1.9803 - val_accuracy: 0.2612\n",
            "Epoch 2/5\n",
            "313/313 [==============================] - 6s 20ms/step - loss: 1.9582 - accuracy: 0.2703 - val_loss: 1.9660 - val_accuracy: 0.2910\n",
            "Epoch 3/5\n",
            "313/313 [==============================] - 7s 21ms/step - loss: 1.8905 - accuracy: 0.3034 - val_loss: 1.9641 - val_accuracy: 0.2674\n",
            "Epoch 4/5\n",
            "313/313 [==============================] - 7s 22ms/step - loss: 1.8508 - accuracy: 0.3177 - val_loss: 1.9482 - val_accuracy: 0.2818\n",
            "Epoch 5/5\n",
            "313/313 [==============================] - 6s 20ms/step - loss: 1.8107 - accuracy: 0.3325 - val_loss: 1.8501 - val_accuracy: 0.3236\n",
            "Time taken to train MLP model is = 0.56 minute\n"
          ],
          "name": "stdout"
        }
      ]
    },
    {
      "cell_type": "code",
      "metadata": {
        "id": "PdlC1BGMxV3R",
        "colab": {
          "base_uri": "https://localhost:8080/",
          "height": 573
        },
        "outputId": "b6584f31-d9ec-4a9c-b0d1-2b247219448c"
      },
      "source": [
        "# Visualization of the training accuracy and Validation accuracy:\n",
        "train_loss = mlp_history.history['accuracy']\n",
        "valid_loss = mlp_history.history['val_accuracy']\n",
        "\n",
        "epochs = range(1,6)\n",
        "plt.plot(epochs, train_loss, marker='o', color='green', label='Training accuracy')\n",
        "plt.plot(epochs, valid_loss, marker='o', color='blue', label='validation accuracy')\n",
        "\n",
        "plt.title('MLP Train accuracy Vs Validation accuracy')\n",
        "plt.ylabel('Accuracy')\n",
        "plt.xlabel('Number of Epochs')\n",
        "plt.legend(['Training_accuracy','Validation_accuracy'],loc='upper right')\n",
        "plt.show()\n",
        "\n",
        "\n",
        "# Visualization of the training loss and Validation loss:\n",
        "train_loss = mlp_history.history['loss']\n",
        "valid_loss = mlp_history.history['val_loss']\n",
        "\n",
        "epochs = range(1,6)\n",
        "plt.ylim(1.4, 2.2)\n",
        "plt.plot(epochs, train_loss, marker='o', color='green', label='Training loss')\n",
        "plt.plot(epochs, valid_loss, marker='o', color='blue', label='validation loss')\n",
        "\n",
        "plt.title('MLP Train Loss Vs Validation Loss')\n",
        "plt.ylabel('Loss')\n",
        "plt.xlabel('Number of Epochs')\n",
        "plt.legend(['Training_loss','Validation_loss'],loc='upper right')\n",
        "plt.show()"
      ],
      "execution_count": null,
      "outputs": [
        {
          "output_type": "display_data",
          "data": {
            "image/png": "[encoded data removed]",
            "text/plain": [
              "<Figure size 432x288 with 1 Axes>"
            ]
          },
          "metadata": {
            "tags": [],
            "needs_background": "light"
          }
        },
        {
          "output_type": "display_data",
          "data": {
            "image/png": "[encoded data removed]",
            "text/plain": [
              "<Figure size 432x288 with 1 Axes>"
            ]
          },
          "metadata": {
            "tags": [],
            "needs_background": "light"
          }
        }
      ]
    },
    {
      "cell_type": "code",
      "metadata": {
        "id": "VIPXjxjbFUvs",
        "colab": {
          "base_uri": "https://localhost:8080/",
          "height": 104
        },
        "outputId": "ed2eb50b-f44c-487c-dfaa-eed3572f367b"
      },
      "source": [
        "# Evaluating the MLP model's performance using the testing samples:\n",
        "score = mlp_network.evaluate(X_test_mlp, y_test_mlp, batch_size=32, verbose=1)\n",
        "\n",
        "print(mlp_network.metrics_names)\n",
        "print(score)\n",
        "print(\"MLP model - Testing loss = {:2f}\".format(score[0]))\n",
        "print(\"MLP model - Testing accuracy = {:2f}\".format(score[1]*100))\n"
      ],
      "execution_count": null,
      "outputs": [
        {
          "output_type": "stream",
          "text": [
            "157/157 [==============================] - 1s 7ms/step - loss: 1.8333 - accuracy: 0.3324\n",
            "['loss', 'accuracy']\n",
            "[1.8332831859588623, 0.33239999413490295]\n",
            "MLP model - Testing loss = 1.833283\n",
            "MLP model - Testing accuracy = 33.239999\n"
          ],
          "name": "stdout"
        }
      ]
    },
    {
      "cell_type": "markdown",
      "metadata": {
        "id": "F1hllqpqLZM6"
      },
      "source": [
        "#**Part-2  CNN Network-1 Implementation**\n",
        "\n",
        "\n",
        "\n"
      ]
    },
    {
      "cell_type": "markdown",
      "metadata": {
        "id": "_pLy8luyMh40"
      },
      "source": [
        "###**Importing the libraries and the dataset part are already done in the initial stage of this .ipynb file**\n"
      ]
    },
    {
      "cell_type": "code",
      "metadata": {
        "id": "AL5_dtG4MEEW",
        "colab": {
          "base_uri": "https://localhost:8080/",
          "height": 139
        },
        "outputId": "33cd9174-1637-4ebd-e122-66b464071420"
      },
      "source": [
        "#Normalizing the pixel value of images to be in range of 0 and 1:\n",
        "X_train_cnn1 = X_train/255\n",
        "X_test_cnn1 = X_test/255\n",
        "X_valid_cnn1 = X_valid/255\n",
        "\n",
        "#One hot encoding for the dataset categories\n",
        "classes = 10\n",
        "epoch = 5\n",
        "y_train_cnn1 = np_utils.to_categorical(y_train,classes)\n",
        "y_test_cnn1 = np_utils.to_categorical(y_test,classes)\n",
        "y_valid_cnn1 = np_utils.to_categorical(y_valid,classes)\n",
        "\n",
        "print(\"X_train_cnn1.shape = \", X_train_cnn1.shape)\n",
        "print(\"y_train_cnn1.shape = \", y_train_cnn1.shape, y_test_cnn1.shape)\n",
        "class_names = ['airplane', 'automobile', 'bird', 'cat', 'deer',\n",
        "               'dog', 'frog', 'horse', 'ship', 'truck']\n",
        "\n",
        "#Randomly sampling 20% of the training dataset:\n",
        "D = int(X_train_cnn1.shape[0] * 0.2)\n",
        "print(\"D : Rows of X_train_cnn1\", D)\n",
        "\n",
        "X_train_cnn1 = X_train_cnn1[:D]\n",
        "y_train_cnn1 = y_train_cnn1[:D]\n",
        "\n",
        "print(\"20% X_train_cnn1.shape = \", X_train_cnn1.shape)\n",
        "print(\"20% y_train_cnn1.shape = \", y_train_cnn1.shape)\n",
        "\n",
        "print(\"20% X_test_cnn1.shape = \", X_test_cnn1.shape)\n",
        "print(\"20% y_test_cnn1.shape = \", y_test_cnn1.shape)"
      ],
      "execution_count": null,
      "outputs": [
        {
          "output_type": "stream",
          "text": [
            "X_train_cnn1.shape =  (50000, 32, 32, 3)\n",
            "y_train_cnn1.shape =  (50000, 10) (5000, 10)\n",
            "D : Rows of X_train_cnn1 10000\n",
            "20% X_train_cnn1.shape =  (10000, 32, 32, 3)\n",
            "20% y_train_cnn1.shape =  (10000, 10)\n",
            "20% X_test_cnn1.shape =  (5000, 32, 32, 3)\n",
            "20% y_test_cnn1.shape =  (5000, 10)\n"
          ],
          "name": "stdout"
        }
      ]
    },
    {
      "cell_type": "markdown",
      "metadata": {
        "id": "eO4gSGckNt8Y"
      },
      "source": [
        "###**Creating the architecture of the CNN network by building sequence of layers**"
      ]
    },
    {
      "cell_type": "code",
      "metadata": {
        "id": "rmuCB8LPNwz9"
      },
      "source": [
        "cnn1_network = tf.keras.models.Sequential()\n",
        "\n",
        "#Step 1 : building the 1st convolution layer with 64 filters (size of 3x3) and ReLU activation function:\n",
        "cnn1_network.add(tf.keras.layers.Conv2D(filters=64, kernel_size=3, padding=\"same\", activation=\"relu\", input_shape=[32, 32, 3]))\n",
        "\n",
        "#Step 2 : building the 2nd convolution layer with 64 filters (size of 3x3) and ReLU activation function:\n",
        "#Padding=same ,will pad zeores to the padding layer, whereas valid option just ignores the padding layer.\n",
        "cnn1_network.add(tf.keras.layers.Conv2D(filters=64, kernel_size=3, padding=\"same\", activation=\"relu\"))\n",
        "\n",
        "#Step 3 : Flattening the data and 2 fully connected layers:\n",
        "cnn1_network.add(tf.keras.layers.Flatten())\n",
        "cnn1_network.add(tf.keras.layers.Dense(units=512, activation='sigmoid'))\n",
        "cnn1_network.add(tf.keras.layers.Dense(units=512, activation='sigmoid'))\n",
        "\n",
        "#Step 4 : Building the Output layer, there are 10 classes - hence the number of neurons is 10 for classification:\n",
        "cnn1_network.add(tf.keras.layers.Dense(units=10, activation='softmax'))"
      ],
      "execution_count": null,
      "outputs": []
    },
    {
      "cell_type": "code",
      "metadata": {
        "id": "0bW_jfrZUnfd"
      },
      "source": [
        "cnn1_network.summary()"
      ],
      "execution_count": null,
      "outputs": []
    },
    {
      "cell_type": "markdown",
      "metadata": {
        "id": "bGP9Cq1uN5Qv"
      },
      "source": [
        "###**Training the CNN1 Network**"
      ]
    },
    {
      "cell_type": "code",
      "metadata": {
        "id": "g5tdJlI5N_eo",
        "colab": {
          "base_uri": "https://localhost:8080/",
          "height": 225
        },
        "outputId": "85b44875-192f-4331-b1c9-c93de447c43f"
      },
      "source": [
        "#Using Adam optimizer to complie the CNN network:\n",
        "#Adam - to perform stochastic gradient decent and updating the weights in order to reduce the loss between the predictions and the target\n",
        "cnn1_network.compile(optimizer = 'adam', loss = 'categorical_crossentropy', metrics = ['accuracy'])\n",
        "\n",
        "#print(y_test.shape)\n",
        "print(\"Training of CNN-1 Network model(sigmoid act fn): \")\n",
        "\n",
        "## Lets calulcate the time taken to train the MLP model:\n",
        "initial_time = time.time()\n",
        "cnn1_history = cnn1_network.fit(X_train_cnn1, y_train_cnn1, epochs=5\n",
        "                                , batch_size=32,\n",
        "                    validation_data=(X_valid_cnn1, y_valid_cnn1))\n",
        "end_time = time.time()\n",
        "time_taken_to_train = (end_time - initial_time)\n",
        "#print(time_taken_to_train)\n",
        "print(\"Time taken to train CNN-1 Network model is = {:0.2f} minute\".format(time_taken_to_train/60.00))"
      ],
      "execution_count": null,
      "outputs": [
        {
          "output_type": "stream",
          "text": [
            "Training of CNN-1 Network model(sigmoid act fn): \n",
            "Epoch 1/5\n",
            "313/313 [==============================] - 169s 540ms/step - loss: 1.8107 - accuracy: 0.3247 - val_loss: 1.5310 - val_accuracy: 0.4402\n",
            "Epoch 2/5\n",
            "313/313 [==============================] - 169s 540ms/step - loss: 1.3640 - accuracy: 0.5069 - val_loss: 1.5010 - val_accuracy: 0.4688\n",
            "Epoch 3/5\n",
            "313/313 [==============================] - 173s 552ms/step - loss: 1.0436 - accuracy: 0.6254 - val_loss: 1.3391 - val_accuracy: 0.5216\n",
            "Epoch 4/5\n",
            "313/313 [==============================] - 169s 539ms/step - loss: 0.6876 - accuracy: 0.7607 - val_loss: 1.3496 - val_accuracy: 0.5506\n",
            "Epoch 5/5\n",
            "313/313 [==============================] - 169s 539ms/step - loss: 0.3294 - accuracy: 0.8957 - val_loss: 1.5885 - val_accuracy: 0.5554\n",
            "Time taken to train CNN-1 Network model is = 14.20 minute\n"
          ],
          "name": "stdout"
        }
      ]
    },
    {
      "cell_type": "code",
      "metadata": {
        "id": "vzQFSJp-YS1C",
        "colab": {
          "base_uri": "https://localhost:8080/",
          "height": 235
        },
        "outputId": "7f1dc36a-ecfa-49c5-f3a7-8ac95e31df70"
      },
      "source": [
        "# Visualization of the training accuracy and Validation accuracy:\n",
        "train_loss = cnn1_history.history['accuracy']\n",
        "valid_loss = cnn1_history.history['val_accuracy']\n",
        "\n",
        "epochs = range(1,6)\n",
        "plt.plot(epochs, train_loss, marker='o', color='green', label='Training accuracy')\n",
        "plt.plot(epochs, valid_loss, marker='o', color='blue', label='validation accuracy')\n",
        "\n",
        "plt.title('CNN-1 Network Train accuracy Vs Validation accuracy')\n",
        "plt.ylabel('Accuracy')\n",
        "plt.xlabel('Number of Epochs')\n",
        "plt.subplot(211)\n",
        "plt.legend(['Training_accuracy','Validation_accuracy'],loc='upper right')\n",
        "plt.show()\n",
        "\n",
        "\n",
        "# Visualization of the training loss and Validation loss:\n",
        "train_loss = cnn1_history.history['loss']\n",
        "valid_loss = cnn1_history.history['val_loss']\n",
        "\n",
        "epochs = range(1,6)\n",
        "#plt.ylim(1.4, 2.2)\n",
        "plt.plot(epochs, train_loss, marker='o', color='green', label='Training loss')\n",
        "plt.plot(epochs, valid_loss, marker='o', color='blue', label='validation loss')\n",
        "plt.subplot(212)\n",
        "plt.title('CNN-1 Network Train Loss Vs Validation Loss')\n",
        "plt.ylabel('Loss')\n",
        "plt.xlabel('Number of Epochs')\n",
        "plt.legend(['Training_loss','Validation_loss'],loc='upper right')\n",
        "plt.show()\n",
        "\n"
      ],
      "execution_count": null,
      "outputs": [
        {
          "output_type": "error",
          "ename": "NameError",
          "evalue": "ignored",
          "traceback": [
            "\u001b[0;31m---------------------------------------------------------------------------\u001b[0m",
            "\u001b[0;31mNameError\u001b[0m                                 Traceback (most recent call last)",
            "\u001b[0;32m<ipython-input-1-35e643bff260>\u001b[0m in \u001b[0;36m<module>\u001b[0;34m()\u001b[0m\n\u001b[1;32m      1\u001b[0m \u001b[0;31m# Visualization of the training accuracy and Validation accuracy:\u001b[0m\u001b[0;34m\u001b[0m\u001b[0;34m\u001b[0m\u001b[0;34m\u001b[0m\u001b[0m\n\u001b[0;32m----> 2\u001b[0;31m \u001b[0mtrain_loss\u001b[0m \u001b[0;34m=\u001b[0m \u001b[0mcnn1_history\u001b[0m\u001b[0;34m.\u001b[0m\u001b[0mhistory\u001b[0m\u001b[0;34m[\u001b[0m\u001b[0;34m'accuracy'\u001b[0m\u001b[0;34m]\u001b[0m\u001b[0;34m\u001b[0m\u001b[0;34m\u001b[0m\u001b[0m\n\u001b[0m\u001b[1;32m      3\u001b[0m \u001b[0mvalid_loss\u001b[0m \u001b[0;34m=\u001b[0m \u001b[0mcnn1_history\u001b[0m\u001b[0;34m.\u001b[0m\u001b[0mhistory\u001b[0m\u001b[0;34m[\u001b[0m\u001b[0;34m'val_accuracy'\u001b[0m\u001b[0;34m]\u001b[0m\u001b[0;34m\u001b[0m\u001b[0;34m\u001b[0m\u001b[0m\n\u001b[1;32m      4\u001b[0m \u001b[0;34m\u001b[0m\u001b[0m\n\u001b[1;32m      5\u001b[0m \u001b[0mepochs\u001b[0m \u001b[0;34m=\u001b[0m \u001b[0mrange\u001b[0m\u001b[0;34m(\u001b[0m\u001b[0;36m1\u001b[0m\u001b[0;34m,\u001b[0m\u001b[0;36m6\u001b[0m\u001b[0;34m)\u001b[0m\u001b[0;34m\u001b[0m\u001b[0;34m\u001b[0m\u001b[0m\n",
            "\u001b[0;31mNameError\u001b[0m: name 'cnn1_history' is not defined"
          ]
        }
      ]
    },
    {
      "cell_type": "code",
      "metadata": {
        "id": "UFHbcV2sYdmL",
        "colab": {
          "base_uri": "https://localhost:8080/",
          "height": 104
        },
        "outputId": "6f26bb22-bacb-49b7-c3da-8599bdf9e728"
      },
      "source": [
        "# Evaluating the testing results:\n",
        "score = cnn1_network.evaluate(X_test_cnn1, y_test_cnn1, batch_size=32, verbose=1)\n",
        "\n",
        "print(cnn1_network.metrics_names)\n",
        "print(score)\n",
        "print(\"CNN-1 model - Testing loss = {:2f}\".format(score[0]))\n",
        "print(\"CNN-1 model - Testing accuracy = {:2f}%\".format(score[1]*100))"
      ],
      "execution_count": null,
      "outputs": [
        {
          "output_type": "stream",
          "text": [
            "157/157 [==============================] - 17s 109ms/step - loss: 2.2344 - accuracy: 0.5572\n",
            "['loss', 'accuracy']\n",
            "[2.234391450881958, 0.557200014591217]\n",
            "CNN-1 model - Testing loss = 2.234391\n",
            "CNN-1 model - Testing accuracy = 55.720001%\n"
          ],
          "name": "stdout"
        }
      ]
    },
    {
      "cell_type": "markdown",
      "metadata": {
        "id": "-hJtMgwfYkI9"
      },
      "source": [
        "#**Part-3 CNN2 Network Implementation**"
      ]
    },
    {
      "cell_type": "markdown",
      "metadata": {
        "id": "YiKHQKaWYuhk"
      },
      "source": [
        "###**Importing the libraries and the dataset part are already done in the initial stage of this .ipynb file**"
      ]
    },
    {
      "cell_type": "code",
      "metadata": {
        "id": "EDhldRA0YjeQ",
        "colab": {
          "base_uri": "https://localhost:8080/",
          "height": 139
        },
        "outputId": "b035fae5-83bb-4f0c-9de6-b54618622305"
      },
      "source": [
        "#Normalizing the pixel value of images to be in range of 0 and 1:\n",
        "X_train_cnn2 = X_train/255\n",
        "X_test_cnn2 = X_test/255\n",
        "X_valid_cnn2 = X_valid/255\n",
        "\n",
        "#One hot encoding for the dataset categories\n",
        "classes = 10\n",
        "epoch = 5\n",
        "y_train_cnn2 = np_utils.to_categorical(y_train,classes)\n",
        "y_test_cnn2 = np_utils.to_categorical(y_test,classes)\n",
        "y_valid_cnn2 = np_utils.to_categorical(y_valid,classes)\n",
        "\n",
        "print(\"X_train.shape = \", X_train_cnn2.shape)\n",
        "print(\"y_train.shape = \", y_train_cnn2.shape, y_test_cnn2.shape)\n",
        "class_names = ['airplane', 'automobile', 'bird', 'cat', 'deer',\n",
        "               'dog', 'frog', 'horse', 'ship', 'truck']\n",
        "\n",
        "#Randomly sampling 20% of the training dataset:\n",
        "D = int(X_train_cnn2.shape[0] * 0.2)\n",
        "print(\"D : Rows of X_train\", D)\n",
        "\n",
        "X_train_cnn2 = X_train_cnn2[:D]\n",
        "y_train_cnn2 = y_train_cnn2[:D]\n",
        "\n",
        "print(\"20% X_train_cnn2.shape = \", X_train_cnn2.shape)\n",
        "print(\"20% y_train_cnn2.shape = \", y_train_cnn2.shape)\n",
        "\n",
        "print(\"20% X_test_cnn2.shape = \", X_test_cnn2.shape)\n",
        "print(\"20% y_test_cnn2.shape = \", y_test_cnn2.shape)"
      ],
      "execution_count": null,
      "outputs": [
        {
          "output_type": "stream",
          "text": [
            "X_train.shape =  (50000, 32, 32, 3)\n",
            "y_train.shape =  (50000, 10) (5000, 10)\n",
            "D : Rows of X_train 10000\n",
            "20% X_train_cnn2.shape =  (10000, 32, 32, 3)\n",
            "20% y_train_cnn2.shape =  (10000, 10)\n",
            "20% X_test_cnn2.shape =  (5000, 32, 32, 3)\n",
            "20% y_test_cnn2.shape =  (5000, 10)\n"
          ],
          "name": "stdout"
        }
      ]
    },
    {
      "cell_type": "markdown",
      "metadata": {
        "id": "v7KU1Oclfu9Q"
      },
      "source": [
        "####**Creating the architecture of the CNN-2 network by building sequence of layers**\n",
        "#####The Max pooling and dropout layers are added inorder to prevent overfitting"
      ]
    },
    {
      "cell_type": "code",
      "metadata": {
        "id": "2ldYJCVPfyrn"
      },
      "source": [
        "cnn2_network = tf.keras.models.Sequential()\n",
        "\n",
        "#Step 1 : building the 1st convolution layer with 64 filters (size of 3x3) and ReLU activation function:\n",
        "cnn2_network.add(tf.keras.layers.Conv2D(filters=64, kernel_size=3, padding=\"same\", activation=\"relu\", input_shape=[32, 32, 3]))\n",
        "\n",
        "#Step 2 : Create the 2x2 Max Pooling layer:\n",
        "cnn2_network.add(tf.keras.layers.MaxPool2D(pool_size=2, strides=2, padding='valid'))\n",
        "\n",
        "#Step 3 : building the 2nd convolution layer with 64 filters (size of 3x3) and ReLU activation function:\n",
        "cnn2_network.add(tf.keras.layers.Conv2D(filters=64, kernel_size=3, padding=\"same\", activation=\"relu\"))\n",
        "\n",
        "#Step 4 : Create 2nd layer of the 2x2 Max Pooling layer:\n",
        "cnn2_network.add(tf.keras.layers.MaxPool2D(pool_size=2, strides=2, padding='valid'))\n",
        "\n",
        "#Step 5 : Flattening the data and 1st fully connected layer:\n",
        "cnn2_network.add(tf.keras.layers.Flatten())\n",
        "cnn2_network.add(tf.keras.layers.Dense(units=512, activation='sigmoid'))\n",
        "\n",
        "#Step 6 : Dropout Layer with 0.2 drop rate:\n",
        "#model_dropout = Sequential()\n",
        "cnn2_network.add(tf.keras.layers.Dropout(0.2))\n",
        "\n",
        "#Step 7 : 2nd fully connected later with sigmoid act function:\n",
        "cnn2_network.add(tf.keras.layers.Dense(units=512, activation='sigmoid'))\n",
        "\n",
        "#Step 8 : Dropout Layer with 0.2 drop rate:\n",
        "cnn2_network.add(tf.keras.layers.Dropout(0.2))\n",
        "\n",
        "#Step 9 : Building the Output layer, there are 10 classes - hence the number of neurons is 10 for classification:\n",
        "cnn2_network.add(tf.keras.layers.Dense(units=10, activation='softmax'))"
      ],
      "execution_count": null,
      "outputs": []
    },
    {
      "cell_type": "code",
      "metadata": {
        "id": "l5OSESaJf6VI"
      },
      "source": [
        "cnn2_network.summary()"
      ],
      "execution_count": null,
      "outputs": []
    },
    {
      "cell_type": "markdown",
      "metadata": {
        "id": "wTyJuOr_f8Nv"
      },
      "source": [
        "####**Training the CNN-2 network**"
      ]
    },
    {
      "cell_type": "code",
      "metadata": {
        "id": "1K1d9dwCgALG",
        "colab": {
          "base_uri": "https://localhost:8080/",
          "height": 745
        },
        "outputId": "cadb4948-7aab-42a2-c2b8-943bcab985e4"
      },
      "source": [
        "#Using Adam optimizer to complie the CNN network:\n",
        "#Adam - to perform stochastic gradient decent and updating the weights in order to reduce the loss between the predictions and the target\n",
        "cnn2_network.compile(optimizer = 'adam', loss = 'categorical_crossentropy', metrics = ['accuracy'])\n",
        "\n",
        "#print(y_test_cnn2.shape)\n",
        "\n",
        "print(\"Training of CNN-2 Network model(sigmoid act fn):\")\n",
        "#\n",
        "initial_time = time.time()\n",
        "cnn2_history = cnn2_network.fit(X_train_cnn2, y_train_cnn2, epochs=20, batch_size=32,\n",
        "                    validation_data=(X_valid_cnn2, y_valid_cnn2))\n",
        "\n",
        "end_time = time.time()\n",
        "time_taken_to_train = (end_time - initial_time)\n",
        "#print(time_taken_to_train)\n",
        "print(\"Time taken to train CNN-2 Network model is = {:0.2f} minute\".format(time_taken_to_train/60.00))"
      ],
      "execution_count": null,
      "outputs": [
        {
          "output_type": "stream",
          "text": [
            "Training of CNN-2 Network model(sigmoid act fn):\n",
            "Epoch 1/20\n",
            "313/313 [==============================] - 39s 126ms/step - loss: 1.9102 - accuracy: 0.2809 - val_loss: 1.6393 - val_accuracy: 0.3856\n",
            "Epoch 2/20\n",
            "313/313 [==============================] - 37s 117ms/step - loss: 1.4857 - accuracy: 0.4613 - val_loss: 1.3978 - val_accuracy: 0.4938\n",
            "Epoch 3/20\n",
            "313/313 [==============================] - 37s 117ms/step - loss: 1.3277 - accuracy: 0.5157 - val_loss: 1.3049 - val_accuracy: 0.5308\n",
            "Epoch 4/20\n",
            "313/313 [==============================] - 37s 117ms/step - loss: 1.1693 - accuracy: 0.5765 - val_loss: 1.2921 - val_accuracy: 0.5344\n",
            "Epoch 5/20\n",
            "313/313 [==============================] - 37s 117ms/step - loss: 1.0489 - accuracy: 0.6265 - val_loss: 1.2390 - val_accuracy: 0.5650\n",
            "Epoch 6/20\n",
            "313/313 [==============================] - 37s 117ms/step - loss: 0.9273 - accuracy: 0.6640 - val_loss: 1.1645 - val_accuracy: 0.5908\n",
            "Epoch 7/20\n",
            "313/313 [==============================] - 37s 117ms/step - loss: 0.7916 - accuracy: 0.7163 - val_loss: 1.1713 - val_accuracy: 0.5970\n",
            "Epoch 8/20\n",
            "313/313 [==============================] - 37s 118ms/step - loss: 0.6636 - accuracy: 0.7612 - val_loss: 1.2356 - val_accuracy: 0.5958\n",
            "Epoch 9/20\n",
            "313/313 [==============================] - 38s 120ms/step - loss: 0.5424 - accuracy: 0.8055 - val_loss: 1.2688 - val_accuracy: 0.6068\n",
            "Epoch 10/20\n",
            "313/313 [==============================] - 37s 117ms/step - loss: 0.3964 - accuracy: 0.8650 - val_loss: 1.2731 - val_accuracy: 0.6220\n",
            "Epoch 11/20\n",
            "313/313 [==============================] - 37s 117ms/step - loss: 0.2962 - accuracy: 0.8996 - val_loss: 1.4491 - val_accuracy: 0.6114\n",
            "Epoch 12/20\n",
            "313/313 [==============================] - 36s 116ms/step - loss: 0.1963 - accuracy: 0.9359 - val_loss: 1.5302 - val_accuracy: 0.6128\n",
            "Epoch 13/20\n",
            "313/313 [==============================] - 36s 117ms/step - loss: 0.1568 - accuracy: 0.9505 - val_loss: 1.5732 - val_accuracy: 0.6148\n",
            "Epoch 14/20\n",
            "313/313 [==============================] - 37s 118ms/step - loss: 0.1222 - accuracy: 0.9585 - val_loss: 1.7017 - val_accuracy: 0.6194\n",
            "Epoch 15/20\n",
            "313/313 [==============================] - 37s 117ms/step - loss: 0.0871 - accuracy: 0.9735 - val_loss: 1.7437 - val_accuracy: 0.6116\n",
            "Epoch 16/20\n",
            "313/313 [==============================] - 38s 120ms/step - loss: 0.0877 - accuracy: 0.9719 - val_loss: 1.8575 - val_accuracy: 0.6208\n",
            "Epoch 17/20\n",
            "313/313 [==============================] - 37s 118ms/step - loss: 0.0880 - accuracy: 0.9701 - val_loss: 1.9325 - val_accuracy: 0.6068\n",
            "Epoch 18/20\n",
            "313/313 [==============================] - 37s 120ms/step - loss: 0.0676 - accuracy: 0.9779 - val_loss: 2.0061 - val_accuracy: 0.6156\n",
            "Epoch 19/20\n",
            "313/313 [==============================] - 36s 116ms/step - loss: 0.0849 - accuracy: 0.9726 - val_loss: 2.0648 - val_accuracy: 0.6086\n",
            "Epoch 20/20\n",
            "313/313 [==============================] - 37s 117ms/step - loss: 0.0696 - accuracy: 0.9757 - val_loss: 2.1738 - val_accuracy: 0.6002\n",
            "Time taken to train CNN-2 Network model is = 12.36 minute\n"
          ],
          "name": "stdout"
        }
      ]
    },
    {
      "cell_type": "code",
      "metadata": {
        "id": "86ryVmnyl9_W",
        "colab": {
          "base_uri": "https://localhost:8080/",
          "height": 573
        },
        "outputId": "8d29307f-a2c6-4b95-a117-1c95e814db8d"
      },
      "source": [
        "# Visualization of the training accuracy and Validation accuracy:\n",
        "train_loss = cnn2_history.history['accuracy']\n",
        "valid_loss = cnn2_history.history['val_accuracy']\n",
        "\n",
        "epochs = range(1,6)\n",
        "plt.plot(epochs, train_loss, marker='o', color='green', label='Training accuracy')\n",
        "plt.plot(epochs, valid_loss, marker='o', color='blue', label='validation accuracy')\n",
        "\n",
        "plt.title('CNN-2 Network Train accuracy Vs Validation accuracy')\n",
        "plt.ylabel('Accuracy')\n",
        "plt.xlabel('Number of Epochs')\n",
        "plt.legend(['Training_accuracy','Validation_accuracy'],loc='upper right')\n",
        "plt.show()\n",
        "\n",
        "\n",
        "# Visualization of the training loss and Validation loss:\n",
        "train_loss = cnn2_history.history['loss']\n",
        "valid_loss = cnn2_history.history['val_loss']\n",
        "\n",
        "epochs = range(1,6)\n",
        "#plt.ylim(1.4, 2.2)\n",
        "plt.plot(epochs, train_loss, marker='o', color='green', label='Training loss')\n",
        "plt.plot(epochs, valid_loss, marker='o', color='blue', label='validation loss')\n",
        "\n",
        "plt.title('CNN-2 Network Train Loss Vs Validation Loss')\n",
        "plt.ylabel('Loss')\n",
        "plt.xlabel('Number of Epochs')\n",
        "plt.legend(['Training_loss','Validation_loss'],loc='upper right')\n",
        "plt.show()\n",
        "\n"
      ],
      "execution_count": null,
      "outputs": [
        {
          "output_type": "display_data",
          "data": {
            "image/png": "[encoded data removed]",
            "text/plain": [
              "<Figure size 432x288 with 1 Axes>"
            ]
          },
          "metadata": {
            "tags": [],
            "needs_background": "light"
          }
        },
        {
          "output_type": "display_data",
          "data": {
            "image/png": "[encoded data removed]",
            "text/plain": [
              "<Figure size 432x288 with 1 Axes>"
            ]
          },
          "metadata": {
            "tags": [],
            "needs_background": "light"
          }
        }
      ]
    },
    {
      "cell_type": "code",
      "metadata": {
        "id": "cAIS8HlRrgJF",
        "colab": {
          "base_uri": "https://localhost:8080/",
          "height": 104
        },
        "outputId": "eaafd99e-e224-4c29-9467-bb1b9aa856c7"
      },
      "source": [
        "# Evaluating the testing results:\n",
        "score = cnn2_network.evaluate(X_test_cnn2, y_test_cnn2, batch_size=32, verbose=1)\n",
        "\n",
        "print(cnn2_network.metrics_names)\n",
        "print(score)\n",
        "print(\"CNN-2 model - Testing loss = {:2f}\".format(score[0]))\n",
        "print(\"CNN-2 model - Testing accuracy = {:2f}%\".format(score[1]*100))"
      ],
      "execution_count": null,
      "outputs": [
        {
          "output_type": "stream",
          "text": [
            "157/157 [==============================] - 4s 28ms/step - loss: 2.1073 - accuracy: 0.5998\n",
            "['loss', 'accuracy']\n",
            "[2.1073391437530518, 0.5997999906539917]\n",
            "CNN-2 model - Testing loss = 2.107339\n",
            "CNN-2 model - Testing accuracy = 59.979999%\n"
          ],
          "name": "stdout"
        }
      ]
    },
    {
      "cell_type": "code",
      "metadata": {
        "id": "Ja3OUdxOAHOS",
        "colab": {
          "base_uri": "https://localhost:8080/",
          "height": 659
        },
        "outputId": "21a115bf-0dee-4784-80eb-3bd3ef93ac8f"
      },
      "source": [
        "import numpy as np\n",
        "\n",
        "from keras.datasets import cifar10\n",
        "from keras.utils.np_utils import to_categorical   \n",
        "\n",
        "\n",
        "(X_train, y_train), (X_test, y_test) = cifar10.load_data()\n",
        "\n",
        "print(\"Shape of training data:\")\n",
        "print(X_train.shape)\n",
        "print(y_train.shape)\n",
        "print(\"Shape of test data:\")\n",
        "print(X_test.shape)\n",
        "print(y_test.shape)\n",
        "\n",
        "# Transform label indices to one-hot encoded vectors\n",
        "\n",
        "y_train = to_categorical(y_train, num_classes=10)\n",
        "y_test = to_categorical(y_test, num_classes=10)\n",
        "\n",
        "# Transform images from (32,32,3) to 3072-dimensional vectors (32*32*3)\n",
        "\n",
        "X_train = np.reshape(X_train,(50000,3072))\n",
        "X_test = np.reshape(X_test,(10000,3072))\n",
        "X_train = X_train.astype('float32')\n",
        "X_test = X_test.astype('float32')\n",
        "\n",
        "# Normalization of pixel values (to [0-1] range)\n",
        "\n",
        "X_train /= 255\n",
        "X_test /= 255\n",
        "\n",
        "from keras.models import Sequential\n",
        "from keras.layers import Dense, Activation\n",
        "from keras.optimizers import SGD\n",
        "\n",
        "model = Sequential()\n",
        "model.add(Dense(256, activation='relu', input_dim=3072))\n",
        "model.add(Dense(256, activation='relu'))\n",
        "model.add(Dense(10, activation='softmax'))\n",
        "sgd = SGD(lr=0.01, decay=1e-6, momentum=0.9, nesterov=True)\n",
        "\n",
        "model.compile(optimizer=sgd,\n",
        "              loss='categorical_crossentropy',\n",
        "              metrics=['accuracy'])\n",
        "\n",
        "\n",
        "history = model.fit(X_train,y_train, epochs=15, batch_size=32, verbose=2, validation_split=0.2)"
      ],
      "execution_count": null,
      "outputs": [
        {
          "output_type": "stream",
          "text": [
            "Shape of training data:\n",
            "(50000, 32, 32, 3)\n",
            "(50000, 1)\n",
            "Shape of test data:\n",
            "(10000, 32, 32, 3)\n",
            "(10000, 1)\n",
            "Train on 40000 samples, validate on 10000 samples\n",
            "Epoch 1/15\n",
            " - 9s - loss: 1.8229 - accuracy: 0.3416 - val_loss: 1.8044 - val_accuracy: 0.3583\n",
            "Epoch 2/15\n",
            " - 9s - loss: 1.6568 - accuracy: 0.4046 - val_loss: 1.6296 - val_accuracy: 0.4200\n",
            "Epoch 3/15\n",
            " - 9s - loss: 1.5801 - accuracy: 0.4336 - val_loss: 1.5874 - val_accuracy: 0.4324\n",
            "Epoch 4/15\n",
            " - 9s - loss: 1.5389 - accuracy: 0.4507 - val_loss: 1.6561 - val_accuracy: 0.4030\n",
            "Epoch 5/15\n",
            " - 9s - loss: 1.5066 - accuracy: 0.4604 - val_loss: 1.5788 - val_accuracy: 0.4328\n",
            "Epoch 6/15\n",
            " - 9s - loss: 1.4762 - accuracy: 0.4685 - val_loss: 1.5556 - val_accuracy: 0.4488\n",
            "Epoch 7/15\n",
            " - 9s - loss: 1.4534 - accuracy: 0.4790 - val_loss: 1.5769 - val_accuracy: 0.4321\n",
            "Epoch 8/15\n",
            " - 9s - loss: 1.4267 - accuracy: 0.4884 - val_loss: 1.5311 - val_accuracy: 0.4658\n",
            "Epoch 9/15\n",
            " - 9s - loss: 1.4079 - accuracy: 0.4945 - val_loss: 1.5091 - val_accuracy: 0.4661\n",
            "Epoch 10/15\n",
            " - 9s - loss: 1.3846 - accuracy: 0.5031 - val_loss: 1.5562 - val_accuracy: 0.4597\n",
            "Epoch 11/15\n",
            " - 9s - loss: 1.3630 - accuracy: 0.5106 - val_loss: 1.5076 - val_accuracy: 0.4829\n",
            "Epoch 12/15\n",
            " - 9s - loss: 1.3439 - accuracy: 0.5167 - val_loss: 1.4780 - val_accuracy: 0.4799\n",
            "Epoch 13/15\n",
            " - 9s - loss: 1.3309 - accuracy: 0.5242 - val_loss: 1.4869 - val_accuracy: 0.4809\n",
            "Epoch 14/15\n",
            " - 9s - loss: 1.3146 - accuracy: 0.5281 - val_loss: 1.5335 - val_accuracy: 0.4742\n",
            "Epoch 15/15\n",
            " - 9s - loss: 1.2959 - accuracy: 0.5322 - val_loss: 1.4933 - val_accuracy: 0.4818\n"
          ],
          "name": "stdout"
        }
      ]
    },
    {
      "cell_type": "code",
      "metadata": {
        "id": "36EZW_wGrgIT"
      },
      "source": [
        ""
      ],
      "execution_count": null,
      "outputs": []
    }
  ]
}